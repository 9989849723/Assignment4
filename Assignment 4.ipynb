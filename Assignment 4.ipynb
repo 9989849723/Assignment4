{
 "cells": [
  {
   "cell_type": "code",
   "execution_count": null,
   "id": "5c784bb9",
   "metadata": {},
   "outputs": [],
   "source": [
    "# 1. Given a list of numbers, write a python program that returns a new list which Has all duplicate elements removed. And is sorted in an increasing order.\n",
    "#Ex:\n",
    "#Input:\n",
    "#[2,1,3,4,2,3,3,2,7,9,8,7]\n",
    "#Output:\n",
    "#[1,2,3,4,7,8,9]"
   ]
  },
  {
   "cell_type": "code",
   "execution_count": 1,
   "id": "b5b423e3",
   "metadata": {},
   "outputs": [
    {
     "data": {
      "text/plain": [
       "[1, 2, 3, 4, 7, 8, 9]"
      ]
     },
     "execution_count": 1,
     "metadata": {},
     "output_type": "execute_result"
    }
   ],
   "source": [
    "list1=[2,1,3,4,2,3,3,2,7,9,8,7]\n",
    "s1=set(list1)\n",
    "s1\n",
    "list2=list(s1)\n",
    "list2.sort()\n",
    "list2"
   ]
  },
  {
   "cell_type": "code",
   "execution_count": 1,
   "id": "a8a949ab",
   "metadata": {},
   "outputs": [
    {
     "data": {
      "text/plain": [
       "[1, 2, 3, 4, 7, 8, 9]"
      ]
     },
     "execution_count": 1,
     "metadata": {},
     "output_type": "execute_result"
    }
   ],
   "source": [
    "x=[2,1,3,4,2,3,3,2,7,9,8,7]\n",
    "list(set(x))"
   ]
  },
  {
   "cell_type": "code",
   "execution_count": null,
   "id": "5c25bb9e",
   "metadata": {},
   "outputs": [],
   "source": [
    "# 2. Write a Python program where you will iterate over both keys and values in dictionaries"
   ]
  },
  {
   "cell_type": "code",
   "execution_count": 3,
   "id": "dbcbf1b5",
   "metadata": {},
   "outputs": [
    {
     "name": "stdout",
     "output_type": "stream",
     "text": [
      "1 keerthi redddy\n",
      "2 teja\n",
      "3 sidhu\n",
      "4 manoj\n",
      "5 ameem\n"
     ]
    }
   ],
   "source": [
    "dict1={1:\"keerthi redddy\",2:\"teja\",3:\"sidhu\",4:\"manoj\",5:\"ameem\"}\n",
    "for keys,values in dict1.items():\n",
    "    print(keys,values)"
   ]
  },
  {
   "cell_type": "code",
   "execution_count": null,
   "id": "e935b984",
   "metadata": {},
   "outputs": [],
   "source": [
    "# 3. Write a Python program that takes a dictionary of student names and returns a list of student names in alphabetical order\n",
    "# Ex:\n",
    "# Input:\n",
    "# {“Student 1”: \"Tarun\", \"Student 2”: \"Manoj\", \"Student 3”: \"Gephi”}\n",
    "# Output:\n",
    "#  [“Gephi”,”\n",
    "# Manoj”,” Tarun”]\n"
   ]
  },
  {
   "cell_type": "code",
   "execution_count": 2,
   "id": "528bf46f",
   "metadata": {},
   "outputs": [
    {
     "name": "stdout",
     "output_type": "stream",
     "text": [
      "['Gephi', 'Manoj', 'Tarun']\n"
     ]
    }
   ],
   "source": [
    "dict1={\"Student 1\": \"Tarun\",\"Student 2\":\"Manoj\",\"Student 3\":\"Gephi\"}\n",
    "list1=[]\n",
    "for keys,values in dict1.items():\n",
    "    list1.append(values)\n",
    "    list1.sort()\n",
    "print(list1)"
   ]
  },
  {
   "cell_type": "code",
   "execution_count": null,
   "id": "99968029",
   "metadata": {},
   "outputs": [],
   "source": [
    "# 4.4. Write a Python which returns a new list of Booleans, from a given number. Iterating through the number one digit at a time, append True if the digit is 1 and False if it is 0.\n",
    "# Ex:\n",
    "# Input: “01001”\n",
    "# Output: [“False”, “True”, “False”,” False”,” True”]"
   ]
  },
  {
   "cell_type": "code",
   "execution_count": 3,
   "id": "212d665a",
   "metadata": {},
   "outputs": [
    {
     "name": "stdout",
     "output_type": "stream",
     "text": [
      "['False', 'True', 'False', 'False', 'True']\n"
     ]
    }
   ],
   "source": [
    "x=\"01001\"\n",
    "y=[]\n",
    "for i in x:\n",
    "    if i==\"1\":\n",
    "        y.append(\"True\")\n",
    "    elif i==\"0\":\n",
    "        y.append(\"False\")\n",
    "print(y)\n"
   ]
  },
  {
   "cell_type": "code",
   "execution_count": null,
   "id": "e093d950",
   "metadata": {},
   "outputs": [],
   "source": [
    "# 5.character and the values will be the occurrence of the character in the string, and it should for any string inputs (dynamic)\n",
    "# Ex:\n",
    "# Input: “my name is ame”\n",
    "# Output: {“m”:3,” y”:1,” n”:1,” a”:2,” e”:2,” i”:1,” s”:1}"
   ]
  },
  {
   "cell_type": "code",
   "execution_count": 5,
   "id": "dc7705ac",
   "metadata": {},
   "outputs": [
    {
     "name": "stdout",
     "output_type": "stream",
     "text": [
      "enter the string :my name is manoj\n",
      "{'j': 1, 's': 1, 'i': 1, 'a': 2, 'n': 2, 'y': 1, ' ': 3, 'o': 1, 'm': 3, 'e': 1}\n"
     ]
    }
   ],
   "source": [
    "x=input(\"enter the string :\")\n",
    "b=set(x)\n",
    "c=list(b)\n",
    "dict1=dict()\n",
    "for i in c:\n",
    "    dict1.update({i:x.count(i)})\n",
    "print(dict1)"
   ]
  },
  {
   "cell_type": "code",
   "execution_count": 8,
   "id": "fdb71592",
   "metadata": {},
   "outputs": [
    {
     "name": "stdout",
     "output_type": "stream",
     "text": [
      "enter a stringmy name is ame\n",
      "{'m': 3, 'y': 1, 'n': 1, 'a': 2, 'e': 2, 'i': 1, 's': 1}\n"
     ]
    }
   ],
   "source": [
    "a=input(\"enter a string\")\n",
    "b={}\n",
    "for i in a:\n",
    "    if i!=\" \":\n",
    "        c=a.count(i)\n",
    "        b.update({i:c})\n",
    "print(b)"
   ]
  },
  {
   "cell_type": "code",
   "execution_count": null,
   "id": "1d2610d6",
   "metadata": {},
   "outputs": [],
   "source": [
    "# 6. Given a dictionary containing the names and ages of a group of people, return the name of the oldest person\n",
    "# Ex:\n",
    "# Input: {\"Tmma\": 41, \"Ackes\": 45, \"myna\": 15, \"Benthon\": 29}\n",
    "# Output: “Ackes”"
   ]
  },
  {
   "cell_type": "code",
   "execution_count": 6,
   "id": "bc6df85b",
   "metadata": {},
   "outputs": [
    {
     "data": {
      "text/plain": [
       "'Ackes'"
      ]
     },
     "execution_count": 6,
     "metadata": {},
     "output_type": "execute_result"
    }
   ],
   "source": [
    "dict1= {\"Tmma\": 41, \"Ackes\": 45, \"myna\": 15, \"Benthon\": 29}\n",
    "a1=max(dict1,key=lambda x:dict1[x])\n",
    "a1"
   ]
  },
  {
   "cell_type": "code",
   "execution_count": 7,
   "id": "e55d1298",
   "metadata": {},
   "outputs": [
    {
     "name": "stdout",
     "output_type": "stream",
     "text": [
      "Ackes\n"
     ]
    }
   ],
   "source": [
    "dict1={\"Tmma\": 41, \"Ackes\": 45, \"myna\": 15, \"Benthon\": 29}\n",
    "b=max(dict1.values())\n",
    "for i in dict1:\n",
    "    if dict1[i]==b:\n",
    "        print(i)\n"
   ]
  },
  {
   "cell_type": "code",
   "execution_count": null,
   "id": "507ce03f",
   "metadata": {},
   "outputs": [],
   "source": [
    "# 7. Write a Python program to create a Rock, Paper, Scissor game, use two inputs for two\n",
    "# players:\n",
    "# Conditions: -Rock beats Scissors, Scissors beats Paper, Paper beats Rock"
   ]
  },
  {
   "cell_type": "code",
   "execution_count": 1,
   "id": "ee3db460",
   "metadata": {},
   "outputs": [
    {
     "name": "stdout",
     "output_type": "stream",
     "text": [
      "enter the person1rock\n",
      "enter the person2paper\n",
      "person2 wins\n"
     ]
    }
   ],
   "source": [
    "p1=input(\"enter the person1\")\n",
    "p2=input(\"enter the person2\")\n",
    "if p1==\"rock\":\n",
    "    if p2==\"rock\":\n",
    "        print(\"match is tie\")\n",
    "    elif p2==\"paper\":\n",
    "        print(\"person2 wins\")\n",
    "    elif p2==\"scissor\":\n",
    "        print(\"person1 wins\")\n",
    "elif p1==\"paper\":\n",
    "    if p2==\"paper\":\n",
    "        print(\"match is tie\")\n",
    "    elif p2==\"scissor\":\n",
    "        print(\"person2 wins\")\n",
    "    elif p2==\"rock\":\n",
    "        print(\"person1 wins\")\n",
    "elif p1==\"scissor\":\n",
    "    if p2==\"scissor\":\n",
    "        print(\"match is tie\")\n",
    "    elif p2==\"rock\":\n",
    "        print(\"person2 wins\")\n",
    "    elif p2==\"paper\":\n",
    "        print(\"person1 wins\")\n",
    "else:\n",
    "    print(\"invalid input\")\n",
    "        \n",
    "    "
   ]
  },
  {
   "cell_type": "code",
   "execution_count": null,
   "id": "7389b84e",
   "metadata": {},
   "outputs": [],
   "source": [
    "# 8. Create a program that returns a list of items that you can afford in the store with the money you have in your wallet. Create a dictionary with items as key and price as\n",
    "# values\n",
    "# Ex:\n",
    "# Input:\n",
    "# {“water bottles”: “20”,” chips”:10,” Iphone”;49000“,” towel”:90,” pens”:58,” cake”;400}\n",
    "# Your wallet balance: -50\n",
    "# Output: [“water bottles”, “chips”]"
   ]
  },
  {
   "cell_type": "code",
   "execution_count": 2,
   "id": "3ec87f43",
   "metadata": {},
   "outputs": [
    {
     "name": "stdout",
     "output_type": "stream",
     "text": [
      "['water bottles', 'chips']\n"
     ]
    }
   ],
   "source": [
    "dict1={\"water bottles\":20,\"chips\":10,\"Iphone\":49000,\"towel\":90,\"pens\":58,\"cake\":400}\n",
    "wallet_blnce=50\n",
    "d1=[]\n",
    "for i in dict1:\n",
    "    if dict1[i]<wallet_blnce:\n",
    "        d1.append(i)\n",
    "print(d1)"
   ]
  },
  {
   "cell_type": "code",
   "execution_count": null,
   "id": "20b2c4e6",
   "metadata": {},
   "outputs": [],
   "source": [
    "# 9. Write a Python program to create a union of sets "
   ]
  },
  {
   "cell_type": "code",
   "execution_count": 6,
   "id": "ee342bcb",
   "metadata": {},
   "outputs": [
    {
     "data": {
      "text/plain": [
       "{1, 2, 3, 4, 5, 6, 7, 8, 9, 10}"
      ]
     },
     "execution_count": 6,
     "metadata": {},
     "output_type": "execute_result"
    }
   ],
   "source": [
    "s1={1,2,3,4,5,6}\n",
    "s2={7,8,9,10}\n",
    "var1=s1.union(s2)\n",
    "var1"
   ]
  },
  {
   "cell_type": "code",
   "execution_count": 7,
   "id": "df3952a1",
   "metadata": {},
   "outputs": [
    {
     "name": "stdout",
     "output_type": "stream",
     "text": [
      "{1, 2, 3, 4, 5, 6, 7, 8, 9, 10, 11, 12, 13, 14, 15, 100, 101}\n"
     ]
    }
   ],
   "source": [
    "s1={1,2,3,4,5}\n",
    "s2={6,7,8,9}\n",
    "s3={10,11,12,13,14,15}\n",
    "s4={100,101}\n",
    "print(s1.union(s2).union(s3).union(s4))"
   ]
  },
  {
   "cell_type": "code",
   "execution_count": null,
   "id": "e861dbf9",
   "metadata": {},
   "outputs": [],
   "source": [
    "# 10. Write a Python program to check if a given value is present in a set or not\n",
    "# (Dynamic)\n"
   ]
  },
  {
   "cell_type": "code",
   "execution_count": 2,
   "id": "0e0661d5",
   "metadata": {},
   "outputs": [
    {
     "name": "stdout",
     "output_type": "stream",
     "text": [
      "enter the number11\n",
      "the value is prsesnt\n"
     ]
    }
   ],
   "source": [
    "s1={10,11,12,13,14}\n",
    "value=int(input(\"enter the number\"))\n",
    "for i in s1:\n",
    "    if i==value:\n",
    "        print(\"the value is prsesnt\")\n"
   ]
  },
  {
   "cell_type": "code",
   "execution_count": null,
   "id": "2351cd2b",
   "metadata": {},
   "outputs": [],
   "source": [
    "# 11. Write a Python program to find the occurrences of 3 most common words in a given text. And make it as a dictionaries\n",
    "# Ex:\n",
    "# Input:\n",
    "# ” Cat dog dog cat horse dog dog mouse horse dog mouse tiger lion tiger\n",
    "# cat mouse snail”\n",
    "# Output: (“dog”:5,”cat”:3,” mouse”;3)\n"
   ]
  },
  {
   "cell_type": "code",
   "execution_count": 8,
   "id": "b1a0060a",
   "metadata": {},
   "outputs": [
    {
     "name": "stdout",
     "output_type": "stream",
     "text": [
      "{'cat': 3, 'dog': 5, 'mouse': 3}\n"
     ]
    }
   ],
   "source": [
    "s1=\"cat dog dog cat horse dog dog mouse horse dog mouse tiger lion tiger cat mouse snail\"\n",
    "s2=s1.split()\n",
    "s3=[]\n",
    "dict1={}\n",
    "for i in s2:\n",
    "    if s2.count(i)>2:\n",
    "        if i in dict1:\n",
    "            dict1[i]+=1\n",
    "        else:\n",
    "            dict1[i]=1\n",
    "       \n",
    "\n",
    "print(dict1)\n"
   ]
  },
  {
   "cell_type": "code",
   "execution_count": null,
   "id": "29b85953",
   "metadata": {},
   "outputs": [],
   "source": [
    "# 12. Write a Python program that accepts name of given subject and mark, and make subjects as keys in dictionaries and marks as values and print the final\n",
    "# dictionary with subjects and marks"
   ]
  },
  {
   "cell_type": "code",
   "execution_count": 4,
   "id": "910698cf",
   "metadata": {},
   "outputs": [
    {
     "name": "stdout",
     "output_type": "stream",
     "text": [
      "{'Python': 80, 'Ststistics': 75, 'SQl': 85, 'ML': 60, 'DL': 55}\n"
     ]
    }
   ],
   "source": [
    "list1=[\"Python\",\"Ststistics\",\"SQl\",\"ML\",\"DL\"]\n",
    "list2=[80,75,85,60,55]\n",
    "dict1=dict()\n",
    "for i in range(len(list1)):\n",
    "    dict1.update({list1[i]:list2[i]})\n",
    "print(dict1)\n"
   ]
  },
  {
   "cell_type": "code",
   "execution_count": null,
   "id": "4ab0de3b",
   "metadata": {},
   "outputs": [],
   "source": []
  },
  {
   "cell_type": "code",
   "execution_count": null,
   "id": "2200b7ca",
   "metadata": {},
   "outputs": [],
   "source": []
  }
 ],
 "metadata": {
  "kernelspec": {
   "display_name": "Python 3 (ipykernel)",
   "language": "python",
   "name": "python3"
  },
  "language_info": {
   "codemirror_mode": {
    "name": "ipython",
    "version": 3
   },
   "file_extension": ".py",
   "mimetype": "text/x-python",
   "name": "python",
   "nbconvert_exporter": "python",
   "pygments_lexer": "ipython3",
   "version": "3.9.13"
  }
 },
 "nbformat": 4,
 "nbformat_minor": 5
}
